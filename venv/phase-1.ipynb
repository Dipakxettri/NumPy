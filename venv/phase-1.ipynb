{
 "cells": [
  {
   "cell_type": "markdown",
   "metadata": {},
   "source": [
    "## Numpy array and basics\n"
   ]
  },
  {
   "cell_type": "code",
   "execution_count": 14,
   "metadata": {},
   "outputs": [],
   "source": [
    "import numpy as np  \n",
    "import time as tm                                     "
   ]
  },
  {
   "cell_type": "markdown",
   "metadata": {},
   "source": [
    "### creating array from list  "
   ]
  },
  {
   "cell_type": "code",
   "execution_count": 15,
   "metadata": {},
   "outputs": [
    {
     "name": "stdout",
     "output_type": "stream",
     "text": [
      "1D arrays [1 2 3 4]\n",
      "1D arrays [[1 2 3 4]\n",
      " [5 6 7 8]]\n"
     ]
    }
   ],
   "source": [
    "arry_1d = np.array([1,2,3,4])\n",
    "print(\"1D arrays\", arry_1d)\n",
    "\n",
    "arry_2d = np.array([[1,2,3,4],[5,6,7,8]])\n",
    "print(\"1D arrays\", arry_2d)\n"
   ]
  },
  {
   "cell_type": "markdown",
   "metadata": {},
   "source": [
    "### List vs numpy array"
   ]
  },
  {
   "cell_type": "code",
   "execution_count": 16,
   "metadata": {},
   "outputs": [
    {
     "name": "stdout",
     "output_type": "stream",
     "text": [
      "python list multiplication [1, 2, 3, 4, 1, 2, 3, 4]\n",
      "python list multiplication [2 4 6 8]\n",
      "\n",
      " List operation time: 0.7219171524047852\n",
      "\n",
      " Numpy operation time: 0.028927326202392578\n"
     ]
    }
   ],
   "source": [
    "\n",
    "\n",
    "py_list = [1,2,3,4]\n",
    "print(\"python list multiplication\", py_list * 2)\n",
    "\n",
    "np_array = np.array([1,2,3,4]) #element wise multiplication\n",
    "print(\"python list multiplication\", np_array * 2)\n",
    "\n",
    "start = tm.time()\n",
    "py_list = [i*2 for i in range(10000000)]\n",
    "print(\"\\n List operation time:\", tm.time() - start)\n",
    "\n",
    "start = tm.time()\n",
    "np_array = np.arange(10000000) * 2\n",
    "print(\"\\n Numpy operation time:\", tm.time() - start)"
   ]
  },
  {
   "cell_type": "markdown",
   "metadata": {},
   "source": [
    "### creating array from scratch "
   ]
  },
  {
   "cell_type": "code",
   "execution_count": 19,
   "metadata": {},
   "outputs": [
    {
     "name": "stdout",
     "output_type": "stream",
     "text": [
      "zeroes array: \n",
      " [[0. 0. 0. 0.]\n",
      " [0. 0. 0. 0.]\n",
      " [0. 0. 0. 0.]\n",
      " [0. 0. 0. 0.]]\n",
      "ones array: \n",
      " [[1. 1. 1. 1.]\n",
      " [1. 1. 1. 1.]]\n",
      "full array: \n",
      " [[7 7]\n",
      " [7 7]]\n",
      "random array: \n",
      " [[0.93748043 0.01553677 0.02877828 0.97461458]\n",
      " [0.73796814 0.13492485 0.84614389 0.33575778]]\n",
      "sequence array: \n",
      " [0 2 4 6 8]\n"
     ]
    }
   ],
   "source": [
    "zeros = np.zeros((4,4)) #2D Array\n",
    "print(\"zeroes array: \\n\", zeros)\n",
    "\n",
    "ones = np.ones((2,4)) #1D Array\n",
    "print(\"ones array: \\n\", ones)\n",
    "\n",
    "full = np.full((2,2), 7)#Constant Array\n",
    "print(\"full array: \\n\", full)\n",
    "\n",
    "random = np.random.random((2,4))\n",
    "print(\"random array: \\n\", random)\n",
    "\n",
    "sequence = np.arange(0, 10, 2)\n",
    "print(\"sequence array: \\n\", sequence)\n"
   ]
  },
  {
   "cell_type": "markdown",
   "metadata": {},
   "source": [
    "### Vector, Matrix and Tensor"
   ]
  },
  {
   "cell_type": "code",
   "execution_count": 23,
   "metadata": {},
   "outputs": [
    {
     "name": "stdout",
     "output_type": "stream",
     "text": [
      "Vector: \n",
      " [1 2 3]\n",
      "Matrix: \n",
      " [[1 2 3]\n",
      " [4 5 6]]\n",
      "Tensor: \n",
      " [[[1 2]\n",
      "  [3 4]]\n",
      "\n",
      " [[5 6]\n",
      "  [7 8]]]\n"
     ]
    }
   ],
   "source": [
    "vector = np.array([1,2,3])\n",
    "print(\"Vector: \\n\", vector)\n",
    "\n",
    "matrix = np.array([[1,2,3],\n",
    "                   [4,5,6]])\n",
    "print(\"Matrix: \\n\", matrix)\n",
    "\n",
    "tensor = np.array([[[1,2], [3,4]],\n",
    "                   [[5,6],[7,8]]])\n",
    "print(\"Tensor: \\n\", tensor)"
   ]
  }
 ],
 "metadata": {
  "kernelspec": {
   "display_name": "venv",
   "language": "python",
   "name": "python3"
  },
  "language_info": {
   "codemirror_mode": {
    "name": "ipython",
    "version": 3
   },
   "file_extension": ".py",
   "mimetype": "text/x-python",
   "name": "python",
   "nbconvert_exporter": "python",
   "pygments_lexer": "ipython3",
   "version": "3.12.3"
  }
 },
 "nbformat": 4,
 "nbformat_minor": 2
}
