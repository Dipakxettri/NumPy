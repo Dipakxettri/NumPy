{
 "cells": [
  {
   "cell_type": "markdown",
   "metadata": {},
   "source": [
    "## Numpy array and basics\n"
   ]
  },
  {
   "cell_type": "code",
   "execution_count": 3,
   "metadata": {},
   "outputs": [],
   "source": [
    "import numpy as np                                       "
   ]
  },
  {
   "cell_type": "markdown",
   "metadata": {},
   "source": [
    "### creating array from list  "
   ]
  },
  {
   "cell_type": "code",
   "execution_count": 7,
   "metadata": {},
   "outputs": [
    {
     "name": "stdout",
     "output_type": "stream",
     "text": [
      "1D arrays [1 2 3 4]\n",
      "1D arrays [[1 2 3 4]\n",
      " [5 6 7 8]]\n"
     ]
    }
   ],
   "source": [
    "arry_1d = np.array([1,2,3,4])\n",
    "print(\"1D arrays\", arry_1d)\n",
    "\n",
    "arry_2d = np.array([[1,2,3,4],[5,6,7,8]])\n",
    "print(\"1D arrays\", arry_2d)\n"
   ]
  },
  {
   "cell_type": "markdown",
   "metadata": {},
   "source": [
    "### List vs numpy array"
   ]
  },
  {
   "cell_type": "code",
   "execution_count": 11,
   "metadata": {},
   "outputs": [
    {
     "name": "stdout",
     "output_type": "stream",
     "text": [
      "python list multiplication [1, 2, 3, 4, 1, 2, 3, 4]\n",
      "python list multiplication [2 4 6 8]\n",
      "\n",
      " List operation time: 0.6778316497802734\n"
     ]
    }
   ],
   "source": [
    "\n",
    "\n",
    "py_list = [1,2,3,4]\n",
    "print(\"python list multiplication\", py_list * 2)\n",
    "\n",
    "np_array = np.array([1,2,3,4]) #element wise multiplication\n",
    "print(\"python list multiplication\", np_array * 2)\n",
    "\n",
    "start = tm.time()\n",
    "py_list = [i*2 for i in range(10000000)]\n",
    "print(\"\\n List operation time:\", tm.time() - start)"
   ]
  }
 ],
 "metadata": {
  "kernelspec": {
   "display_name": "venv",
   "language": "python",
   "name": "python3"
  },
  "language_info": {
   "codemirror_mode": {
    "name": "ipython",
    "version": 3
   },
   "file_extension": ".py",
   "mimetype": "text/x-python",
   "name": "python",
   "nbconvert_exporter": "python",
   "pygments_lexer": "ipython3",
   "version": "3.12.3"
  }
 },
 "nbformat": 4,
 "nbformat_minor": 2
}
