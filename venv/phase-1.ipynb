{
 "cells": [
  {
   "cell_type": "markdown",
   "metadata": {},
   "source": [
    "## Numpy array and basics\n"
   ]
  },
  {
   "cell_type": "code",
   "execution_count": 18,
   "metadata": {},
   "outputs": [],
   "source": [
    "import numpy as np  \n",
    "import time as tm                                     "
   ]
  },
  {
   "cell_type": "markdown",
   "metadata": {},
   "source": [
    "### creating array from numpy"
   ]
  },
  {
   "cell_type": "code",
   "execution_count": 19,
   "metadata": {},
   "outputs": [
    {
     "name": "stdout",
     "output_type": "stream",
     "text": [
      "1D arrays [1 2 3 4]\n",
      "1D arrays [[1 2 3 4]\n",
      " [5 6 7 8]]\n"
     ]
    }
   ],
   "source": [
    "arry_1d = np.array([1,2,3,4]) #1D Array\n",
    "print(\"1D arrays\", arry_1d)\n",
    "\n",
    "arry_2d = np.array([[1,2,3,4],[5,6,7,8]]) #2D Array\n",
    "print(\"1D arrays\", arry_2d)\n"
   ]
  },
  {
   "cell_type": "markdown",
   "metadata": {},
   "source": [
    "### List vs numpy array"
   ]
  },
  {
   "cell_type": "code",
   "execution_count": 20,
   "metadata": {},
   "outputs": [
    {
     "name": "stdout",
     "output_type": "stream",
     "text": [
      "python list multiplication [1, 2, 3, 4, 1, 2, 3, 4]\n",
      "python list multiplication [2 4 6 8]\n",
      "\n",
      " List operation time: 1.0705020427703857\n",
      "\n",
      " Numpy operation time: 0.050539493560791016\n"
     ]
    }
   ],
   "source": [
    "\n",
    "\n",
    "py_list = [1,2,3,4] #index wise multplication\n",
    "print(\"python list multiplication\", py_list * 2)\n",
    "\n",
    "np_array = np.array([1,2,3,4]) #element wise multiplication\n",
    "print(\"python list multiplication\", np_array * 2)\n",
    "\n",
    "#Checking which is fast list or numpy array:\n",
    "start = tm.time()\n",
    "py_list = [i*2 for i in range(10000000)]\n",
    "print(\"\\n List operation time:\", tm.time() - start)\n",
    "\n",
    "start = tm.time()\n",
    "np_array = np.arange(10000000) * 2\n",
    "print(\"\\n Numpy operation time:\", tm.time() - start)"
   ]
  },
  {
   "cell_type": "markdown",
   "metadata": {},
   "source": [
    "### creating array from scratch "
   ]
  },
  {
   "cell_type": "code",
   "execution_count": 21,
   "metadata": {},
   "outputs": [
    {
     "name": "stdout",
     "output_type": "stream",
     "text": [
      "zeroes array: \n",
      " [[0. 0. 0. 0.]\n",
      " [0. 0. 0. 0.]\n",
      " [0. 0. 0. 0.]\n",
      " [0. 0. 0. 0.]]\n",
      "ones array: \n",
      " [[1. 1. 1. 1.]\n",
      " [1. 1. 1. 1.]]\n",
      "full array: \n",
      " [[7 7]\n",
      " [7 7]]\n",
      "random array: \n",
      " [[0.12729727 0.22552876 0.86790304 0.78062619]\n",
      " [0.89569978 0.92643782 0.92396273 0.74902979]]\n",
      "sequence array: \n",
      " [0 2 4 6 8]\n"
     ]
    }
   ],
   "source": [
    "zeros = np.zeros((4,4)) #2D Array\n",
    "print(\"zeroes array: \\n\", zeros)\n",
    "\n",
    "ones = np.ones((2,4)) #1D Array\n",
    "print(\"ones array: \\n\", ones)\n",
    "\n",
    "full = np.full((2,2), 7) #Constant Array\n",
    "print(\"full array: \\n\", full)\n",
    "\n",
    "random = np.random.random((2,4)) #random numbers 2*4 array\n",
    "print(\"random array: \\n\", random)\n",
    "\n",
    "sequence = np.arange(0, 10, 2) # sequence of numbers in an array\n",
    "print(\"sequence array: \\n\", sequence)\n"
   ]
  },
  {
   "cell_type": "markdown",
   "metadata": {},
   "source": [
    "### Vector, Matrix and Tensor"
   ]
  },
  {
   "cell_type": "code",
   "execution_count": 22,
   "metadata": {},
   "outputs": [
    {
     "name": "stdout",
     "output_type": "stream",
     "text": [
      "Vector: \n",
      " [1 2 3]\n",
      "Matrix: \n",
      " [[1 2 3]\n",
      " [4 5 6]]\n",
      "Tensor: \n",
      " [[[1 2]\n",
      "  [3 4]]\n",
      "\n",
      " [[5 6]\n",
      "  [7 8]]]\n"
     ]
    }
   ],
   "source": [
    "vector = np.array([1,2,3]) #1D Array = vector\n",
    "print(\"Vector: \\n\", vector)\n",
    "\n",
    "matrix = np.array([[1,2,3],\n",
    "                   [4,5,6]]) #2D Array = matrix\n",
    "print(\"Matrix: \\n\", matrix)\n",
    "\n",
    "tensor = np.array([[[1,2], [3,4]],\n",
    "                   [[5,6],[7,8]]]) #3D+ Array = tensor\n",
    "print(\"Tensor: \\n\", tensor)"
   ]
  },
  {
   "cell_type": "markdown",
   "metadata": {},
   "source": [
    "### Array properties"
   ]
  },
  {
   "cell_type": "code",
   "execution_count": 23,
   "metadata": {},
   "outputs": [
    {
     "name": "stdout",
     "output_type": "stream",
     "text": [
      "Shape:  (2, 4)\n",
      "Dimension : 2\n",
      "Size:  8\n",
      "Size:  int64\n"
     ]
    }
   ],
   "source": [
    "arr = np.array(([1,2,3,4],\n",
    "                [5,6,7,True] #Should be similar data types\n",
    "                ))\n",
    "print(\"Shape: \", arr.shape)\n",
    "print(\"Dimension :\", arr.ndim)\n",
    "print(\"Size: \", arr.size)\n",
    "print(\"Size: \", arr.dtype)"
   ]
  },
  {
   "cell_type": "markdown",
   "metadata": {},
   "source": [
    "### Array Reshaping"
   ]
  },
  {
   "cell_type": "code",
   "execution_count": 24,
   "metadata": {},
   "outputs": [
    {
     "name": "stdout",
     "output_type": "stream",
     "text": [
      "ORignal array:  [ 0  1  2  3  4  5  6  7  8  9 10 11]\n",
      "Reshaped array:\n",
      " [[ 0  1  2  3]\n",
      " [ 4  5  6  7]\n",
      " [ 8  9 10 11]]\n",
      "\n",
      " Flattened array : [ 0  1  2  3  4  5  6  7  8  9 10 11]\n",
      "\n",
      " Raveled array : [ 0  1  2  3  4  5  6  7  8  9 10 11]\n",
      "\n",
      " Transpozed array :\n",
      " [[ 0  4  8]\n",
      " [ 1  5  9]\n",
      " [ 2  6 10]\n",
      " [ 3  7 11]]\n"
     ]
    }
   ],
   "source": [
    "arr = np.arange(12)\n",
    "print(\"ORignal array: \", arr)\n",
    "\n",
    "reshaped = arr.reshape((3,4)) #reshape array into 3 by 4\n",
    "print(\"Reshaped array:\\n\", reshaped)\n",
    "\n",
    "#flatten (returns orginal)\n",
    "flattened = reshaped.flatten()\n",
    "print(\"\\n Flattened array :\", flattened)\n",
    "\n",
    "#ravel (returns view, instead of copy)\n",
    "raveled = reshaped.ravel()\n",
    "print(\"\\n Raveled array :\", raveled)\n",
    "\n",
    "#Transpoze \n",
    "transpozed = reshaped.T\n",
    "print(\"\\n Transpozed array :\\n\", transpozed)"
   ]
  }
 ],
 "metadata": {
  "kernelspec": {
   "display_name": "venv",
   "language": "python",
   "name": "python3"
  },
  "language_info": {
   "codemirror_mode": {
    "name": "ipython",
    "version": 3
   },
   "file_extension": ".py",
   "mimetype": "text/x-python",
   "name": "python",
   "nbconvert_exporter": "python",
   "pygments_lexer": "ipython3",
   "version": "3.12.3"
  }
 },
 "nbformat": 4,
 "nbformat_minor": 2
}
